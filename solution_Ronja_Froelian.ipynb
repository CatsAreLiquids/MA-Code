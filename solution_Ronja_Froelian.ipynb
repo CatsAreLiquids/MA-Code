{
 "cells": [
  {
   "cell_type": "markdown",
   "source": [
    "# Solutions to the code challenge\n",
    "First Step is cleaning the data"
   ],
   "metadata": {
    "collapsed": false
   }
  },
  {
   "cell_type": "code",
   "execution_count": 1,
   "outputs": [],
   "source": [
    "import pandas as pd\n",
    "import numpy as np\n",
    "\n",
    "items = pd.read_csv(\"data/items.csv\")\n",
    "items.drop_duplicates(subset=['id'],keep=\"first\")\n",
    "items[\"item_name\"]=items[\"item_name\"].map(str.lower)\n",
    "items[\"category\"]=items[\"category\"].map(str.lower)\n",
    "\n",
    "\n",
    "# Fill empty price rows\n",
    "if np.where(pd.isna(items[\"price\"]))[0].size != 0:\n",
    "    # Remove outliers before we fill any missing values\n",
    "    num_rows = len(items.index)\n",
    "    items= items[np.abs(items[\"price\"] - items[\"price\"].mean()) <= (3 * items[\"price\"].std())]\n",
    "    items= items[np.abs(items[\"item_count\"] - items[\"item_count\"].mean()) <= (3 * items[\"item_count\"].std())]\n",
    "    print(\"Dropped \", num_rows-len(items.index), \" rows due to outliers in turnover and item_count\")\n",
    "\n",
    "    print(\"Empty price values detected, auto fill with mean\")\n",
    "    mean = items[\"price\"].mean()\n",
    "    count = items[\"price\"].isna().sum()\n",
    "    items[\"price\"].fillna(items[\"price\"].mean())\n",
    "    print(\"Filled \" + str(count) + \" rows with mean value: \"+ str(mean))\n",
    "\n",
    "# Assumption; we can only sell items for at least 1 quantity\n",
    "# drop rows with quantity <= 0\n",
    "if np.where(items[\"item_count\"] <= 0)[0].size != 0:\n",
    "    num_rows = len(items.index)\n",
    "    print(np.where(items[\"item_count\"] <= 0)[0])\n",
    "    items = items.drop(np.where(items[\"item_count\"] <= 0)[0])\n",
    "    print(\"Dropped \", num_rows - len(df.index), \" rows due to out of bounds quantity\")\n",
    "\n",
    "# Fill rows with mean\n",
    "if np.where(pd.isna(items[\"item_count\"]))[0].size != 0:\n",
    "    print(\"Selling an amount smaller than 0, or none\")\n",
    "    mean = items[\"item_count\"].mean()\n",
    "    count = items[\"item_count\"].isin([0,-1]).sum() + items[\"item_count\"].isna().sum()\n",
    "    items[\"item_count\"].fillna(items[\"item_count\"].mean())\n",
    "    print(\"Filled \" + str(count) + \" rows with mean value: \" + str(mean))"
   ],
   "metadata": {
    "collapsed": false,
    "pycharm": {
     "name": "#%%\n"
    }
   }
  },
  {
   "cell_type": "markdown",
   "source": [
    "After cleaning,the data is saved in a new file, so we always have access to the original data"
   ],
   "metadata": {
    "collapsed": false
   }
  },
  {
   "cell_type": "code",
   "execution_count": 2,
   "outputs": [],
   "source": [
    "items.to_csv(\"data/items_clean.csv\",index=False)"
   ],
   "metadata": {
    "collapsed": false,
    "pycharm": {
     "name": "#%%\n"
    }
   }
  },
  {
   "cell_type": "markdown",
   "source": [
    "### Cleaning tags.tsv\n",
    "Since tags.tsv does not contain numerical data, the cleaning process is simpler.\n",
    "Use lower() on all strings, so we dot need to worry about case sensitivity.\n",
    "\n",
    "Task 1 : Show that for each item there exists a (maybe empty) set of tags.\n",
    "This is taken care of in the make_list function and an assertion error is thrown if we do not receive an (empty) set."
   ],
   "metadata": {
    "collapsed": false
   }
  },
  {
   "cell_type": "code",
   "execution_count": 3,
   "outputs": [],
   "source": [
    "def make_list(set_str):\n",
    "    \"\"\"\n",
    "    Helper function to create a list ot of the set string\n",
    "    \"\"\"\n",
    "    if set_str != \"set()\":\n",
    "        assert \"{\" in set_str and \"}\" in set_str\n",
    "        set_str = set_str.split(\"{\")[1].split(\"}\")[0].split(\",\")\n",
    "        set_str = [x.split(\"'\")[1].strip() for x in set_str]\n",
    "    else:\n",
    "        # replacing \"set()\" with np.nan makes pandas functions work\n",
    "        set_str = np.nan\n",
    "    return set_str\n",
    "\n",
    "\n",
    "tags = pd.read_csv(\"data/tags.tsv\",sep=\"\\t\",converters={\"tags\":make_list})\n",
    "tags[\"item_name\"] = tags[\"item_name\"].map(str.lower)\n",
    "tags[\"category\"] = tags[\"category\"].map(str.lower)\n",
    "tags = tags.drop_duplicates(subset=\"id\")\n",
    "\n",
    "tags = tags.explode(\"tags\")"
   ],
   "metadata": {
    "collapsed": false,
    "pycharm": {
     "name": "#%%\n"
    }
   }
  },
  {
   "cell_type": "markdown",
   "source": [
    "## Tasks\n",
    "### Task 1\n",
    "#### Number 1: how many diffrent items are there ?\n",
    "For tags.tsv"
   ],
   "metadata": {
    "collapsed": false
   }
  },
  {
   "cell_type": "code",
   "execution_count": 4,
   "outputs": [
    {
     "name": "stdout",
     "output_type": "stream",
     "text": [
      "And  9975 diffrent item combinations in tags.tsv\n"
     ]
    }
   ],
   "source": [
    "tags_ixc = tags[[\"item_name\",\"category\"]].value_counts()\n",
    "print(\"And \",len(tags_ixc),\"diffrent item combinations in tags.tsv\")"
   ],
   "metadata": {
    "collapsed": false,
    "pycharm": {
     "name": "#%%\n"
    }
   }
  },
  {
   "cell_type": "markdown",
   "source": [
    "For item.csv"
   ],
   "metadata": {
    "collapsed": false,
    "pycharm": {
     "name": "#%% md\n"
    }
   }
  },
  {
   "cell_type": "code",
   "execution_count": 5,
   "outputs": [
    {
     "name": "stdout",
     "output_type": "stream",
     "text": [
      "There are  9999 diffrent item combinations in item.csv\n"
     ]
    }
   ],
   "source": [
    "items_ixc = items[[\"item_name\",\"category\"]].value_counts()\n",
    "print(\"There are \",len(items_ixc),\"diffrent item combinations in item.csv\")"
   ],
   "metadata": {
    "collapsed": false,
    "pycharm": {
     "name": "#%%\n"
    }
   }
  },
  {
   "cell_type": "markdown",
   "source": [
    "Combined"
   ],
   "metadata": {
    "collapsed": false,
    "pycharm": {
     "name": "#%% md\n"
    }
   }
  },
  {
   "cell_type": "code",
   "execution_count": 6,
   "outputs": [
    {
     "name": "stdout",
     "output_type": "stream",
     "text": [
      "Overall there are  9999  diffrent combinations of items and category in both files.\n"
     ]
    }
   ],
   "source": [
    "#so we get the over all number of diffrent combinations\n",
    "ixc = pd.concat([items[[\"item_name\",\"category\"]],tags[[\"item_name\",\"category\"]]])\n",
    "# so we dont count duplicates\n",
    "ixc = ixc.drop_duplicates()\n",
    "print(\"Overall there are \", len(ixc),\" diffrent combinations of items and category in both files.\" )"
   ],
   "metadata": {
    "collapsed": false,
    "pycharm": {
     "name": "#%%\n"
    }
   }
  },
  {
   "cell_type": "markdown",
   "source": [
    "#### Number 2: How many categories do you see?\n",
    "For tags.tsv"
   ],
   "metadata": {
    "collapsed": false,
    "pycharm": {
     "name": "#%% md\n"
    }
   }
  },
  {
   "cell_type": "code",
   "source": [
    "tags_cat_num = tags[\"category\"].value_counts()\n",
    "print(\"There are \",len(tags_cat_num),\"different categories in tags.tsv.\")\n",
    "print(\"The top 10 categories are:\")\n",
    "print(tags_cat_num.iloc[:10])"
   ],
   "metadata": {
    "collapsed": false,
    "pycharm": {
     "name": "#%%\n"
    }
   },
   "execution_count": 7,
   "outputs": [
    {
     "name": "stdout",
     "output_type": "stream",
     "text": [
      "There are  6117 different categories in tags.tsv.\n",
      "The top 10 categories are:\n",
      "bier                     107\n",
      "biere                     91\n",
      "alkoholfreie getränke     87\n",
      "spirituosen               86\n",
      "longdrinks                66\n",
      "cocktails                 63\n",
      "wein                      62\n",
      "afg                       56\n",
      "vorspeisen                51\n",
      "alkoholfrei               50\n",
      "Name: category, dtype: int64\n"
     ]
    }
   ]
  },
  {
   "cell_type": "markdown",
   "source": [
    "For item.csv"
   ],
   "metadata": {
    "collapsed": false,
    "pycharm": {
     "name": "#%% md\n"
    }
   }
  },
  {
   "cell_type": "code",
   "execution_count": 8,
   "outputs": [
    {
     "name": "stdout",
     "output_type": "stream",
     "text": [
      "There are  6129 different categories in items.csv.\n",
      "The top 10 categories are:\n",
      "bier                     101\n",
      "biere                     87\n",
      "spirituosen               78\n",
      "alkoholfreie getränke     73\n",
      "vorspeisen                51\n",
      "wein                      51\n",
      "afg                       49\n",
      "cocktails                 48\n",
      "speisen                   45\n",
      "dessert                   43\n",
      "Name: category, dtype: int64\n"
     ]
    }
   ],
   "source": [
    "items_cat_num = items[\"category\"].value_counts()\n",
    "print(\"There are \",len(items_cat_num),\"different categories in items.csv.\")\n",
    "print(\"The top 10 categories are:\")\n",
    "print(items_cat_num.iloc[:10])"
   ],
   "metadata": {
    "collapsed": false,
    "pycharm": {
     "name": "#%%\n"
    }
   }
  },
  {
   "cell_type": "markdown",
   "source": [
    "Combined:"
   ],
   "metadata": {
    "collapsed": false,
    "pycharm": {
     "name": "#%% md\n"
    }
   }
  },
  {
   "cell_type": "code",
   "execution_count": 9,
   "outputs": [
    {
     "name": "stdout",
     "output_type": "stream",
     "text": [
      "Overall there are  6129 different categories in both files.\n",
      "The top 10 categories are:\n",
      "bier                     208\n",
      "biere                    178\n",
      "spirituosen              164\n",
      "alkoholfreie getränke    160\n",
      "wein                     113\n",
      "cocktails                111\n",
      "afg                      105\n",
      "longdrinks               104\n",
      "vorspeisen               102\n",
      "alkoholfrei               90\n",
      "Name: category, dtype: int64\n"
     ]
    }
   ],
   "source": [
    "categorys = pd.concat([items[\"category\"],tags[\"category\"]])\n",
    "categorys_num = categorys.value_counts()\n",
    "print(\"Overall there are \",len(categorys_num),\"different categories in both files.\")\n",
    "print(\"The top 10 categories are:\")\n",
    "print(categorys_num.iloc[:10])"
   ],
   "metadata": {
    "collapsed": false,
    "pycharm": {
     "name": "#%%\n"
    }
   }
  },
  {
   "cell_type": "markdown",
   "source": [
    "#### Number3: How many tags do you see?"
   ],
   "metadata": {
    "collapsed": false,
    "pycharm": {
     "name": "#%% md\n"
    }
   }
  },
  {
   "cell_type": "code",
   "execution_count": 10,
   "outputs": [
    {
     "name": "stdout",
     "output_type": "stream",
     "text": [
      "we have  10  tags and  5932  entries with no tag\n",
      "The top 10 tags are:\n",
      "other_non_alcoholic_drinks    931\n",
      "spirits                       920\n",
      "carbonated_softdrink          912\n",
      "hot_drinks                    800\n",
      "wine                          711\n",
      "beer                          406\n",
      "sparkling_wine                205\n",
      "beauty_venues                  50\n",
      "misc_fermented_beverage        33\n",
      "beauty_products                13\n",
      "Name: tags, dtype: int64\n"
     ]
    }
   ],
   "source": [
    "tags_nan = tags.tags.value_counts()\n",
    "print(\"we have \",len(tags_nan),\" tags and \", tags.tags.isna().sum(), \" entries with no tag\")\n",
    "print(\"The top 10 tags are:\")\n",
    "print(tags_nan.iloc[:10])"
   ],
   "metadata": {
    "collapsed": false,
    "pycharm": {
     "name": "#%%\n"
    }
   }
  },
  {
   "cell_type": "markdown",
   "source": [
    "### Task 2"
   ],
   "metadata": {
    "collapsed": false
   }
  },
  {
   "cell_type": "code",
   "execution_count": 11,
   "outputs": [
    {
     "name": "stdout",
     "output_type": "stream",
     "text": [
      "There are  24  exact matches for Jägermeister. With an broader search there are  29  potential matches.\n"
     ]
    }
   ],
   "source": [
    "names = items[\"item_name\"]\n",
    "exact = names.str.match(r'(jaegermeister.*|jägermeister.*)').sum()\n",
    "rough = names[names.str.match(r'(.*jaeger.*|.*jäger.*)')].reset_index().drop(columns=['index'])\n",
    "rough = len(rough.drop(np.where(rough['item_name'].str.match(r'(.*schnitzel.* | .*pfanne.*)'))[0]))\n",
    "\n",
    "print(\"There are \",exact, \" exact matches for Jägermeister. With an broader search there are \",\n",
    "      rough,\" potential matches.\")"
   ],
   "metadata": {
    "collapsed": false,
    "pycharm": {
     "name": "#%%\n"
    }
   }
  },
  {
   "cell_type": "markdown",
   "source": [
    "### Task 3\n",
    "with SQL:"
   ],
   "metadata": {
    "collapsed": false
   }
  },
  {
   "cell_type": "code",
   "execution_count": 12,
   "outputs": [
    {
     "name": "stdout",
     "output_type": "stream",
     "text": [
      "                          tag      price\n",
      "0                        beer  203135.45\n",
      "1                  hot_drinks  181953.80\n",
      "2                     spirits  154303.62\n",
      "3                        wine  149226.65\n",
      "4        carbonated_softdrink  131476.52\n",
      "5  other_non_alcoholic_drinks  120128.59\n",
      "6              sparkling_wine   40714.13\n",
      "7               beauty_venues   11393.25\n",
      "8     misc_fermented_beverage   11348.75\n",
      "9             beauty_products    3179.75\n"
     ]
    }
   ],
   "source": [
    "from pandasql import sqldf\n",
    "# In case we want to se how much landed in the None category use the first one instead\n",
    "q = \"\"\"SELECT tags.tags AS tag, SUM(items.price*items.item_count) AS price FROM items,tags\n",
    "        WHERE tags.item_name=items.item_name and tags.category=items.category\n",
    "        GROUP BY tags.tags\n",
    "        ORDER BY price DESC\n",
    "    \"\"\"\n",
    "\n",
    "q = \"\"\"SELECT tags.tags AS tag, SUM(items.price*items.item_count) AS price FROM items,tags\n",
    "        WHERE tags.item_name=items.item_name and tags.category=items.category and tags.tags!=\"None\"\n",
    "        GROUP BY tags.tags\n",
    "        ORDER BY price DESC\n",
    "    \"\"\"\n",
    "print(sqldf(q,locals()))"
   ],
   "metadata": {
    "collapsed": false,
    "pycharm": {
     "name": "#%%\n"
    }
   }
  },
  {
   "cell_type": "markdown",
   "source": [
    "With Python:"
   ],
   "metadata": {
    "collapsed": false,
    "pycharm": {
     "name": "#%% md\n"
    }
   }
  },
  {
   "cell_type": "code",
   "execution_count": 13,
   "outputs": [
    {
     "name": "stdout",
     "output_type": "stream",
     "text": [
      "('None', 2532819.659999998)\n",
      "('beer', 203135.45000000068)\n",
      "('hot_drinks', 181953.80000000005)\n",
      "('spirits', 154303.62)\n",
      "('wine', 149226.64999999988)\n",
      "('carbonated_softdrink', 131476.51999999996)\n",
      "('other_non_alcoholic_drinks', 120128.58999999972)\n",
      "('sparkling_wine', 40714.13)\n",
      "('beauty_venues', 11393.249999999996)\n",
      "('misc_fermented_beverage', 11348.750000000004)\n",
      "('beauty_products', 3179.75)\n"
     ]
    }
   ],
   "source": [
    "comb = items.merge(tags,how='left',left_on=['item_name','category'],right_on=['item_name','category'],\n",
    "                   suffixes=['_items','_tags']).replace(np.nan, 'None')\n",
    "tag_set = set(comb['tags'].tolist())\n",
    "res = []\n",
    "for entry in tag_set:\n",
    "    sum_tag = sum(comb[comb['tags']==entry].item_count * comb[comb['tags']==entry].price)\n",
    "    res.append((entry,sum_tag))\n",
    "res.sort(key=lambda x:x[1])\n",
    "for entry in res[::-1]:\n",
    "    print(entry)"
   ],
   "metadata": {
    "collapsed": false,
    "pycharm": {
     "name": "#%%\n"
    }
   }
  },
  {
   "cell_type": "markdown",
   "source": [
    "### Task 4\n",
    "Done via SQL, I choose to display the id's because it is cleaner than showing the item name."
   ],
   "metadata": {
    "collapsed": false
   }
  },
  {
   "cell_type": "code",
   "execution_count": 14,
   "outputs": [
    {
     "name": "stdout",
     "output_type": "stream",
     "text": [
      "                         tags                      Ids\n",
      "0             beauty_products    699074,1175060,185432\n",
      "1               beauty_venues  1126800,1477456,1773670\n",
      "2                        beer     288146,293983,286608\n",
      "3        carbonated_softdrink    1495692,998222,639739\n",
      "4                  hot_drinks    1012359,344134,442910\n",
      "5     misc_fermented_beverage     976070,42736,1289101\n",
      "6  other_non_alcoholic_drinks   1332105,2011354,564290\n",
      "7              sparkling_wine    1844862,141116,581208\n",
      "8                     spirits     965110,694262,240812\n",
      "9                        wine    52063,1799236,1732319\n"
     ]
    }
   ],
   "source": [
    "#With None as tag\n",
    "q = \"\"\" SELECT tmp.tags, Group_Concat(tmp.id) AS Ids\n",
    "        FROM (select tags.tags AS tags ,df.id AS id, row_number() over\n",
    "                (PARTITION BY tags.tags ORDER BY items.item_count DESC) AS seqnum FROM tags, items\n",
    "                 WHERE items.item_name=tags.item_name AND items.category=tags.category) AS tmp\n",
    "        WHERE seqnum <= 3\n",
    "        GROUP BY tmp.tags\n",
    "    \"\"\"\n",
    "\n",
    "#Without\n",
    "q = \"\"\" SELECT tmp.tags, Group_Concat(tmp.id) AS Ids\n",
    "        FROM (SELECT tags.tags AS tags ,items.id AS id, row_number() over\n",
    "                (PARTITION BY tags.tags ORDER BY items.item_count DESC) AS seqnum FROM tags, items\n",
    "                 WHERE items.item_name=tags.item_name AND items.category=tags.category AND tags.tags!='None') AS tmp\n",
    "        WHERE seqnum <= 3\n",
    "        GROUP BY tmp.tags\n",
    "    \"\"\"\n",
    "print(sqldf(q,locals()))"
   ],
   "metadata": {
    "collapsed": false,
    "pycharm": {
     "name": "#%%\n"
    }
   }
  },
  {
   "cell_type": "markdown",
   "source": [
    "With Python:"
   ],
   "metadata": {
    "collapsed": false,
    "pycharm": {
     "name": "#%% md\n"
    }
   }
  },
  {
   "cell_type": "code",
   "execution_count": 15,
   "outputs": [
    {
     "name": "stdout",
     "output_type": "stream",
     "text": [
      "('beer', [288146, 293983, 286608])\n",
      "('misc_fermented_beverage', [976070, 42736, 1289101])\n",
      "('beauty_venues', [1477456, 1126800, 1773670])\n",
      "('carbonated_softdrink', [1495692, 998222, 639739])\n",
      "('sparkling_wine', [1844862, 141116, 581208])\n",
      "('hot_drinks', [1012359, 344134, 442910])\n",
      "('None', [1192169, 79229, 1600388])\n",
      "('spirits', [965110, 694262, 240812])\n",
      "('beauty_products', [699074, 1175060, 185432])\n",
      "('other_non_alcoholic_drinks', [1332105, 2011354, 564290])\n",
      "('wine', [52063, 1799236, 1732319])\n"
     ]
    }
   ],
   "source": [
    "# this is duplicate code but easier to read in a notebook\n",
    "comb = items.merge(tags,how='left',left_on=['item_name','category'],right_on=['item_name','category'],\n",
    "                   suffixes=['_items','_tags']).replace(np.nan, 'None')\n",
    "tag_set = set(comb['tags'].tolist())\n",
    "\n",
    "res = []\n",
    "for entry in tag_set:\n",
    "    vals = comb[comb['tags']==entry].sort_values(by='item_count',ascending=False)\n",
    "    res.append((entry,vals.id_items.iloc[:3].tolist()))\n",
    "for entry in res:\n",
    "    print(entry)\n"
   ],
   "metadata": {
    "collapsed": false,
    "pycharm": {
     "name": "#%%\n"
    }
   }
  }
 ],
 "metadata": {
  "kernelspec": {
   "display_name": "Python 3",
   "language": "python",
   "name": "python3"
  },
  "language_info": {
   "codemirror_mode": {
    "name": "ipython",
    "version": 2
   },
   "file_extension": ".py",
   "mimetype": "text/x-python",
   "name": "python",
   "nbconvert_exporter": "python",
   "pygments_lexer": "ipython2",
   "version": "2.7.6"
  }
 },
 "nbformat": 4,
 "nbformat_minor": 0
}